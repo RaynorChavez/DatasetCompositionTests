{
  "cells": [
    {
      "cell_type": "markdown",
      "metadata": {
        "id": "view-in-github"
      },
      "source": [
        "<a href=\"https://colab.research.google.com/github/sthalles/SimCLR/blob/simclr-refactor/feature_eval/mini_batch_logistic_regression_evaluator.ipynb\" target=\"_parent\"><img src=\"https://colab.research.google.com/assets/colab-badge.svg\" alt=\"Open In Colab\"/></a>"
      ]
    },
    {
      "cell_type": "code",
      "execution_count": null,
      "metadata": {
        "id": "YUemQib7ZE4D"
      },
      "outputs": [],
      "source": [
        "import torch\n",
        "import sys\n",
        "import numpy as np\n",
        "import os\n",
        "import yaml\n",
        "import matplotlib.pyplot as plt\n",
        "import torchvision\n",
        "import pandas as pd"
      ]
    },
    {
      "cell_type": "code",
      "execution_count": null,
      "metadata": {
        "colab": {
          "base_uri": "https://localhost:8080/"
        },
        "id": "WSgRE1CcLqdS",
        "outputId": "9e8c3126-9979-4f7a-b3ee-a6ccd37f8973"
      },
      "outputs": [
        {
          "output_type": "stream",
          "name": "stdout",
          "text": [
            "Looking in indexes: https://pypi.org/simple, https://us-python.pkg.dev/colab-wheels/public/simple/\n",
            "Requirement already satisfied: gdown in /usr/local/lib/python3.8/dist-packages (4.4.0)\n",
            "Requirement already satisfied: requests[socks] in /usr/local/lib/python3.8/dist-packages (from gdown) (2.23.0)\n",
            "Requirement already satisfied: beautifulsoup4 in /usr/local/lib/python3.8/dist-packages (from gdown) (4.6.3)\n",
            "Requirement already satisfied: tqdm in /usr/local/lib/python3.8/dist-packages (from gdown) (4.64.1)\n",
            "Requirement already satisfied: filelock in /usr/local/lib/python3.8/dist-packages (from gdown) (3.8.0)\n",
            "Requirement already satisfied: six in /usr/local/lib/python3.8/dist-packages (from gdown) (1.15.0)\n",
            "Requirement already satisfied: urllib3!=1.25.0,!=1.25.1,<1.26,>=1.21.1 in /usr/local/lib/python3.8/dist-packages (from requests[socks]->gdown) (1.24.3)\n",
            "Requirement already satisfied: chardet<4,>=3.0.2 in /usr/local/lib/python3.8/dist-packages (from requests[socks]->gdown) (3.0.4)\n",
            "Requirement already satisfied: idna<3,>=2.5 in /usr/local/lib/python3.8/dist-packages (from requests[socks]->gdown) (2.10)\n",
            "Requirement already satisfied: certifi>=2017.4.17 in /usr/local/lib/python3.8/dist-packages (from requests[socks]->gdown) (2022.9.24)\n",
            "Requirement already satisfied: PySocks!=1.5.7,>=1.5.6 in /usr/local/lib/python3.8/dist-packages (from requests[socks]->gdown) (1.7.1)\n"
          ]
        }
      ],
      "source": [
        "!pip install gdown"
      ]
    },
    {
      "cell_type": "code",
      "execution_count": null,
      "metadata": {
        "id": "NOIJEui1ZziV"
      },
      "outputs": [],
      "source": [
        "def get_file_id_by_model(folder_name):\n",
        "  file_id = {'resnet18_100-epochs_stl10': '14_nH2FkyKbt61cieQDiSbBVNP8-gtwgF',\n",
        "             'resnet18_100-epochs_cifar10': '1lc2aoVtrAetGn0PnTkOyFzPCIucOJq7C',\n",
        "             'resnet50_50-epochs_stl10': '1ByTKAUsdm_X7tLcii6oAEl5qFRqRMZSu'}\n",
        "  return file_id.get(folder_name, \"Model not found.\")"
      ]
    },
    {
      "cell_type": "code",
      "execution_count": null,
      "metadata": {
        "colab": {
          "base_uri": "https://localhost:8080/"
        },
        "id": "G7YMxsvEZMrX",
        "outputId": "8d652bb5-f1b0-487b-e1b3-db662d76cb9d"
      },
      "outputs": [
        {
          "output_type": "stream",
          "name": "stdout",
          "text": [
            "resnet50_50-epochs_stl10 1ByTKAUsdm_X7tLcii6oAEl5qFRqRMZSu\n"
          ]
        }
      ],
      "source": [
        "folder_name = 'resnet50_50-epochs_stl10'\n",
        "file_id = get_file_id_by_model(folder_name)\n",
        "print(folder_name, file_id)"
      ]
    },
    {
      "cell_type": "code",
      "execution_count": null,
      "metadata": {
        "id": "3_nypQVEv-hn"
      },
      "outputs": [],
      "source": [
        "from torch.utils.data import DataLoader\n",
        "import torchvision.transforms as transforms\n",
        "from torchvision import datasets\n",
        "from torch.nn.functional import interpolate"
      ]
    },
    {
      "cell_type": "code",
      "source": [
        "dataset_list = ['stl10','cifar10']\n",
        "dataset = dataset_list[0]\n",
        "models = ['rgb3000im_50ep','deptheuclidean3000im_50ep']\n",
        "model = models[0]\n",
        "epochs = 100\n",
        "\n",
        "if model == 'rgb3000im_50ep':\n",
        "  model_weights_dest = '/content/drive/MyDrive/trained_models/rgb/epoch=49-step=4800.ckpt'\n",
        "elif model== 'deptheuclidean3000im_50ep':\n",
        "  model_weights_dest = '/content/drive/MyDrive/trained_models/depth_euclidean/epoch=49-step=4800.ckpt'\n",
        "\n",
        "save_file_name = f'{model}_img_resize_linear_regression_eval_{dataset}_Finetune{epochs}ep'"
      ],
      "metadata": {
        "id": "WU95b081jpJ1"
      },
      "execution_count": null,
      "outputs": []
    },
    {
      "cell_type": "code",
      "execution_count": null,
      "metadata": {
        "colab": {
          "base_uri": "https://localhost:8080/"
        },
        "id": "lDfbL3w_Z0Od",
        "outputId": "53a1730c-45a5-4cd7-d6aa-b5e97aa162b9"
      },
      "outputs": [
        {
          "output_type": "stream",
          "name": "stdout",
          "text": [
            "Using device: cuda\n"
          ]
        }
      ],
      "source": [
        "device = 'cuda' if torch.cuda.is_available() else 'cpu'\n",
        "print(\"Using device:\", device)"
      ]
    },
    {
      "cell_type": "code",
      "execution_count": null,
      "metadata": {
        "id": "BfIPl0G6_RrT"
      },
      "outputs": [],
      "source": [
        "def get_stl10_data_loaders(download, shuffle=False, batch_size=256):\n",
        "  train_dataset = datasets.STL10('./data', split='train', download=download,\n",
        "                                  transform=transforms.Compose([\n",
        "                                      transforms.Resize(32),\n",
        "                                      transforms.ToTensor()]))\n",
        "                                      \n",
        "  #train_dataset = interpolate(train_dataset,size=(32,32),scale_factor=(2,2))\n",
        "\n",
        "  train_loader = DataLoader(train_dataset, batch_size=batch_size,\n",
        "                            num_workers=0, drop_last=False, shuffle=shuffle)\n",
        "  \n",
        "  test_dataset = datasets.STL10('./data', split='test', download=download,\n",
        "                                  transform=transforms.Compose([\n",
        "                                       transforms.Resize(32),\n",
        "                                      transforms.ToTensor()]))\n",
        "  \n",
        "  #test_dataset = interpolate(test_dataset,size=(32,32),scale_factor=(2,2))\n",
        "\n",
        "  test_loader = DataLoader(test_dataset, batch_size=2*batch_size,\n",
        "                            num_workers=10, drop_last=False, shuffle=shuffle)\n",
        "  return train_loader, test_loader\n",
        "\n",
        "def get_cifar10_data_loaders(download, shuffle=False, batch_size=256):\n",
        "  train_dataset = datasets.CIFAR10('./data', train=True, download=download,\n",
        "                                  transform=transforms.ToTensor())\n",
        "\n",
        "  train_loader = DataLoader(train_dataset, batch_size=batch_size,\n",
        "                            num_workers=0, drop_last=False, shuffle=shuffle)\n",
        "  \n",
        "  test_dataset = datasets.CIFAR10('./data', train=False, download=download,\n",
        "                                  transform=transforms.ToTensor())\n",
        "\n",
        "  test_loader = DataLoader(test_dataset, batch_size=2*batch_size,\n",
        "                            num_workers=10, drop_last=False, shuffle=shuffle)\n",
        "  return train_loader, test_loader"
      ]
    },
    {
      "cell_type": "code",
      "execution_count": null,
      "metadata": {
        "id": "kZ4h-TY8YpIW"
      },
      "outputs": [],
      "source": [
        "model = torchvision.models.resnet50(pretrained=False, num_classes=10).to(device)"
      ]
    },
    {
      "cell_type": "code",
      "source": [
        "!pip install lightning-bolts"
      ],
      "metadata": {
        "colab": {
          "base_uri": "https://localhost:8080/"
        },
        "id": "NwCdIELhaZd9",
        "outputId": "b45e2ecf-9972-448c-b776-4b25f044307b"
      },
      "execution_count": null,
      "outputs": [
        {
          "output_type": "stream",
          "name": "stdout",
          "text": [
            "Looking in indexes: https://pypi.org/simple, https://us-python.pkg.dev/colab-wheels/public/simple/\n",
            "Requirement already satisfied: lightning-bolts in /usr/local/lib/python3.8/dist-packages (0.6.0.post1)\n",
            "Requirement already satisfied: pytorch-lightning>=1.7.0 in /usr/local/lib/python3.8/dist-packages (from lightning-bolts) (1.8.3.post1)\n",
            "Requirement already satisfied: lightning-utilities!=0.4.0,>=0.3.0 in /usr/local/lib/python3.8/dist-packages (from lightning-bolts) (0.3.0)\n",
            "Requirement already satisfied: torchvision>=0.10.0 in /usr/local/lib/python3.8/dist-packages (from lightning-bolts) (0.13.1+cu113)\n",
            "Requirement already satisfied: fire in /usr/local/lib/python3.8/dist-packages (from lightning-utilities!=0.4.0,>=0.3.0->lightning-bolts) (0.4.0)\n",
            "Requirement already satisfied: typing-extensions>=4.0.0 in /usr/local/lib/python3.8/dist-packages (from pytorch-lightning>=1.7.0->lightning-bolts) (4.1.1)\n",
            "Requirement already satisfied: PyYAML>=5.4 in /usr/local/lib/python3.8/dist-packages (from pytorch-lightning>=1.7.0->lightning-bolts) (6.0)\n",
            "Requirement already satisfied: fsspec[http]>2021.06.0 in /usr/local/lib/python3.8/dist-packages (from pytorch-lightning>=1.7.0->lightning-bolts) (2022.11.0)\n",
            "Requirement already satisfied: numpy>=1.17.2 in /usr/local/lib/python3.8/dist-packages (from pytorch-lightning>=1.7.0->lightning-bolts) (1.21.6)\n",
            "Requirement already satisfied: tensorboardX>=2.2 in /usr/local/lib/python3.8/dist-packages (from pytorch-lightning>=1.7.0->lightning-bolts) (2.5.1)\n",
            "Requirement already satisfied: torch>=1.9.* in /usr/local/lib/python3.8/dist-packages (from pytorch-lightning>=1.7.0->lightning-bolts) (1.12.1+cu113)\n",
            "Requirement already satisfied: tqdm>=4.57.0 in /usr/local/lib/python3.8/dist-packages (from pytorch-lightning>=1.7.0->lightning-bolts) (4.64.1)\n",
            "Requirement already satisfied: torchmetrics>=0.7.0 in /usr/local/lib/python3.8/dist-packages (from pytorch-lightning>=1.7.0->lightning-bolts) (0.11.0)\n",
            "Requirement already satisfied: packaging>=17.0 in /usr/local/lib/python3.8/dist-packages (from pytorch-lightning>=1.7.0->lightning-bolts) (21.3)\n",
            "Requirement already satisfied: requests in /usr/local/lib/python3.8/dist-packages (from fsspec[http]>2021.06.0->pytorch-lightning>=1.7.0->lightning-bolts) (2.23.0)\n",
            "Requirement already satisfied: aiohttp!=4.0.0a0,!=4.0.0a1 in /usr/local/lib/python3.8/dist-packages (from fsspec[http]>2021.06.0->pytorch-lightning>=1.7.0->lightning-bolts) (3.8.3)\n",
            "Requirement already satisfied: yarl<2.0,>=1.0 in /usr/local/lib/python3.8/dist-packages (from aiohttp!=4.0.0a0,!=4.0.0a1->fsspec[http]>2021.06.0->pytorch-lightning>=1.7.0->lightning-bolts) (1.8.1)\n",
            "Requirement already satisfied: multidict<7.0,>=4.5 in /usr/local/lib/python3.8/dist-packages (from aiohttp!=4.0.0a0,!=4.0.0a1->fsspec[http]>2021.06.0->pytorch-lightning>=1.7.0->lightning-bolts) (6.0.2)\n",
            "Requirement already satisfied: charset-normalizer<3.0,>=2.0 in /usr/local/lib/python3.8/dist-packages (from aiohttp!=4.0.0a0,!=4.0.0a1->fsspec[http]>2021.06.0->pytorch-lightning>=1.7.0->lightning-bolts) (2.1.1)\n",
            "Requirement already satisfied: attrs>=17.3.0 in /usr/local/lib/python3.8/dist-packages (from aiohttp!=4.0.0a0,!=4.0.0a1->fsspec[http]>2021.06.0->pytorch-lightning>=1.7.0->lightning-bolts) (22.1.0)\n",
            "Requirement already satisfied: async-timeout<5.0,>=4.0.0a3 in /usr/local/lib/python3.8/dist-packages (from aiohttp!=4.0.0a0,!=4.0.0a1->fsspec[http]>2021.06.0->pytorch-lightning>=1.7.0->lightning-bolts) (4.0.2)\n",
            "Requirement already satisfied: aiosignal>=1.1.2 in /usr/local/lib/python3.8/dist-packages (from aiohttp!=4.0.0a0,!=4.0.0a1->fsspec[http]>2021.06.0->pytorch-lightning>=1.7.0->lightning-bolts) (1.3.1)\n",
            "Requirement already satisfied: frozenlist>=1.1.1 in /usr/local/lib/python3.8/dist-packages (from aiohttp!=4.0.0a0,!=4.0.0a1->fsspec[http]>2021.06.0->pytorch-lightning>=1.7.0->lightning-bolts) (1.3.3)\n",
            "Requirement already satisfied: pyparsing!=3.0.5,>=2.0.2 in /usr/local/lib/python3.8/dist-packages (from packaging>=17.0->pytorch-lightning>=1.7.0->lightning-bolts) (3.0.9)\n",
            "Requirement already satisfied: protobuf<=3.20.1,>=3.8.0 in /usr/local/lib/python3.8/dist-packages (from tensorboardX>=2.2->pytorch-lightning>=1.7.0->lightning-bolts) (3.19.6)\n",
            "Requirement already satisfied: pillow!=8.3.*,>=5.3.0 in /usr/local/lib/python3.8/dist-packages (from torchvision>=0.10.0->lightning-bolts) (7.1.2)\n",
            "Requirement already satisfied: idna>=2.0 in /usr/local/lib/python3.8/dist-packages (from yarl<2.0,>=1.0->aiohttp!=4.0.0a0,!=4.0.0a1->fsspec[http]>2021.06.0->pytorch-lightning>=1.7.0->lightning-bolts) (2.10)\n",
            "Requirement already satisfied: six in /usr/local/lib/python3.8/dist-packages (from fire->lightning-utilities!=0.4.0,>=0.3.0->lightning-bolts) (1.15.0)\n",
            "Requirement already satisfied: termcolor in /usr/local/lib/python3.8/dist-packages (from fire->lightning-utilities!=0.4.0,>=0.3.0->lightning-bolts) (2.1.1)\n",
            "Requirement already satisfied: certifi>=2017.4.17 in /usr/local/lib/python3.8/dist-packages (from requests->fsspec[http]>2021.06.0->pytorch-lightning>=1.7.0->lightning-bolts) (2022.9.24)\n",
            "Requirement already satisfied: chardet<4,>=3.0.2 in /usr/local/lib/python3.8/dist-packages (from requests->fsspec[http]>2021.06.0->pytorch-lightning>=1.7.0->lightning-bolts) (3.0.4)\n",
            "Requirement already satisfied: urllib3!=1.25.0,!=1.25.1,<1.26,>=1.21.1 in /usr/local/lib/python3.8/dist-packages (from requests->fsspec[http]>2021.06.0->pytorch-lightning>=1.7.0->lightning-bolts) (1.24.3)\n"
          ]
        }
      ]
    },
    {
      "cell_type": "code",
      "execution_count": null,
      "metadata": {
        "id": "4AIfgq41GuTT"
      },
      "outputs": [],
      "source": [
        "MODEL_PATH = model_weights_dest\n",
        "checkpoint = torch.load(MODEL_PATH, map_location=device)\n",
        "state_dict = checkpoint['state_dict']\n",
        "\n",
        "for k in list(state_dict.keys()):\n",
        "\n",
        "  if k.startswith('backbone.'):\n",
        "    if k.startswith('backbone') and not k.startswith('backbone.fc'):\n",
        "      # remove prefix\n",
        "      state_dict[k[len(\"backbone.\"):]] = state_dict[k]\n",
        "  del state_dict[k]"
      ]
    },
    {
      "cell_type": "code",
      "execution_count": null,
      "metadata": {
        "colab": {
          "base_uri": "https://localhost:8080/"
        },
        "id": "wF0SqGpEYpIY",
        "outputId": "5e2ac8e2-0ef1-4a0c-cb6f-390370fbdb40"
      },
      "outputs": [
        {
          "output_type": "stream",
          "name": "stdout",
          "text": [
            "Files already downloaded and verified\n",
            "Files already downloaded and verified\n"
          ]
        }
      ],
      "source": [
        "if dataset == 'cifar10':\n",
        "  train_loader, test_loader = get_cifar10_data_loaders(download=True)\n",
        "elif dataset == 'stl10':\n",
        "  train_loader, test_loader = get_stl10_data_loaders(download=True)"
      ]
    },
    {
      "cell_type": "code",
      "execution_count": null,
      "metadata": {
        "id": "pYT_KsM0Mnnr"
      },
      "outputs": [],
      "source": [
        "# freeze all layers but the last fc\n",
        "for name, param in model.named_parameters():\n",
        "    if name not in ['fc.weight', 'fc.bias']:\n",
        "        param.requires_grad = False\n",
        "\n",
        "parameters = list(filter(lambda p: p.requires_grad, model.parameters()))\n",
        "assert len(parameters) == 2  # fc.weight, fc.bias"
      ]
    },
    {
      "cell_type": "code",
      "execution_count": null,
      "metadata": {
        "id": "aPVh1S_eMRDU"
      },
      "outputs": [],
      "source": [
        "optimizer = torch.optim.Adam(model.parameters(), lr=3e-4, weight_decay=0.0008)\n",
        "criterion = torch.nn.CrossEntropyLoss().to(device)"
      ]
    },
    {
      "cell_type": "code",
      "execution_count": null,
      "metadata": {
        "id": "edr6RhP2PdVq"
      },
      "outputs": [],
      "source": [
        "def accuracy(output, target, topk=(1,)):\n",
        "    \"\"\"Computes the accuracy over the k top predictions for the specified values of k\"\"\"\n",
        "    with torch.no_grad():\n",
        "        maxk = max(topk)\n",
        "        batch_size = target.size(0)\n",
        "\n",
        "        _, pred = output.topk(maxk, 1, True, True)\n",
        "        pred = pred.t()\n",
        "        correct = pred.eq(target.view(1, -1).expand_as(pred))\n",
        "\n",
        "        res = []\n",
        "        for k in topk:\n",
        "            correct_k = correct[:k].reshape(-1).float().sum(0, keepdim=True)\n",
        "            res.append(correct_k.mul_(100.0 / batch_size))\n",
        "        return res"
      ]
    },
    {
      "cell_type": "code",
      "execution_count": null,
      "metadata": {
        "colab": {
          "base_uri": "https://localhost:8080/"
        },
        "id": "qOder0dAMI7X",
        "outputId": "36175b89-1e6d-4fe8-8469-0fcdf366b529"
      },
      "outputs": [
        {
          "output_type": "stream",
          "name": "stdout",
          "text": [
            "Epoch 0\tTop1 Train accuracy 10.76056957244873\tTop1 Test accuracy: 12.021484375\tTop5 test acc: 53.9501953125\n",
            "Epoch 1\tTop1 Train accuracy 14.611673355102539\tTop1 Test accuracy: 12.529296875\tTop5 test acc: 55.72021484375\n",
            "Epoch 2\tTop1 Train accuracy 17.420726776123047\tTop1 Test accuracy: 13.0322265625\tTop5 test acc: 56.58203125\n",
            "Epoch 3\tTop1 Train accuracy 20.38832664489746\tTop1 Test accuracy: 13.30322265625\tTop5 test acc: 57.52685546875\n",
            "Epoch 4\tTop1 Train accuracy 23.327207565307617\tTop1 Test accuracy: 13.564453125\tTop5 test acc: 58.32275390625\n",
            "Epoch 5\tTop1 Train accuracy 26.81296157836914\tTop1 Test accuracy: 13.92578125\tTop5 test acc: 58.97705078125\n",
            "Epoch 6\tTop1 Train accuracy 29.858686447143555\tTop1 Test accuracy: 13.97705078125\tTop5 test acc: 59.5703125\n",
            "Epoch 7\tTop1 Train accuracy 32.44025802612305\tTop1 Test accuracy: 14.09423828125\tTop5 test acc: 60.2880859375\n",
            "Epoch 8\tTop1 Train accuracy 34.78745651245117\tTop1 Test accuracy: 14.43603515625\tTop5 test acc: 60.7373046875\n",
            "Epoch 9\tTop1 Train accuracy 37.102481842041016\tTop1 Test accuracy: 14.35546875\tTop5 test acc: 60.76171875\n",
            "Epoch 10\tTop1 Train accuracy 38.95335388183594\tTop1 Test accuracy: 14.61669921875\tTop5 test acc: 60.9326171875\n",
            "Epoch 11\tTop1 Train accuracy 40.98000717163086\tTop1 Test accuracy: 14.82177734375\tTop5 test acc: 61.25\n",
            "Epoch 12\tTop1 Train accuracy 42.61603927612305\tTop1 Test accuracy: 14.814453125\tTop5 test acc: 61.32080078125\n",
            "Epoch 13\tTop1 Train accuracy 44.345130920410156\tTop1 Test accuracy: 15.1171875\tTop5 test acc: 61.33544921875\n",
            "Epoch 14\tTop1 Train accuracy 45.84444046020508\tTop1 Test accuracy: 15.12451171875\tTop5 test acc: 61.23779296875\n",
            "Epoch 15\tTop1 Train accuracy 46.77734375\tTop1 Test accuracy: 15.10498046875\tTop5 test acc: 61.2939453125\n",
            "Epoch 16\tTop1 Train accuracy 47.93772888183594\tTop1 Test accuracy: 14.970703125\tTop5 test acc: 61.4111328125\n",
            "Epoch 17\tTop1 Train accuracy 48.99011993408203\tTop1 Test accuracy: 14.97802734375\tTop5 test acc: 61.51611328125\n",
            "Epoch 18\tTop1 Train accuracy 49.88396072387695\tTop1 Test accuracy: 15.0830078125\tTop5 test acc: 61.62353515625\n",
            "Epoch 19\tTop1 Train accuracy 51.03630447387695\tTop1 Test accuracy: 15.15625\tTop5 test acc: 61.6357421875\n",
            "Epoch 20\tTop1 Train accuracy 51.93474197387695\tTop1 Test accuracy: 15.0830078125\tTop5 test acc: 61.68701171875\n",
            "Epoch 21\tTop1 Train accuracy 52.73552322387695\tTop1 Test accuracy: 15.02197265625\tTop5 test acc: 61.6357421875\n",
            "Epoch 22\tTop1 Train accuracy 53.6247673034668\tTop1 Test accuracy: 14.92919921875\tTop5 test acc: 61.72119140625\n",
            "Epoch 23\tTop1 Train accuracy 54.5232048034668\tTop1 Test accuracy: 14.92919921875\tTop5 test acc: 61.826171875\n",
            "Epoch 24\tTop1 Train accuracy 55.2653923034668\tTop1 Test accuracy: 14.970703125\tTop5 test acc: 61.796875\n",
            "Epoch 25\tTop1 Train accuracy 56.159236907958984\tTop1 Test accuracy: 15.18310546875\tTop5 test acc: 61.85791015625\n",
            "Epoch 26\tTop1 Train accuracy 56.896827697753906\tTop1 Test accuracy: 15.09765625\tTop5 test acc: 61.8505859375\n",
            "Epoch 27\tTop1 Train accuracy 57.482765197753906\tTop1 Test accuracy: 15.1318359375\tTop5 test acc: 61.76513671875\n",
            "Epoch 28\tTop1 Train accuracy 58.205421447753906\tTop1 Test accuracy: 15.1513671875\tTop5 test acc: 61.6748046875\n",
            "Epoch 29\tTop1 Train accuracy 58.9453125\tTop1 Test accuracy: 15.21240234375\tTop5 test acc: 61.6259765625\n",
            "Epoch 30\tTop1 Train accuracy 59.74609375\tTop1 Test accuracy: 15.2294921875\tTop5 test acc: 61.51611328125\n",
            "Epoch 31\tTop1 Train accuracy 60.2734375\tTop1 Test accuracy: 15.19287109375\tTop5 test acc: 61.38671875\n",
            "Epoch 32\tTop1 Train accuracy 60.75942611694336\tTop1 Test accuracy: 15.14892578125\tTop5 test acc: 61.3134765625\n",
            "Epoch 33\tTop1 Train accuracy 61.22817611694336\tTop1 Test accuracy: 15.17333984375\tTop5 test acc: 61.35009765625\n",
            "Epoch 34\tTop1 Train accuracy 61.81411361694336\tTop1 Test accuracy: 15.12939453125\tTop5 test acc: 61.4013671875\n",
            "Epoch 35\tTop1 Train accuracy 62.24149703979492\tTop1 Test accuracy: 15.0927734375\tTop5 test acc: 61.5380859375\n",
            "Epoch 36\tTop1 Train accuracy 62.82514190673828\tTop1 Test accuracy: 15.068359375\tTop5 test acc: 61.5869140625\n",
            "Epoch 37\tTop1 Train accuracy 63.31342315673828\tTop1 Test accuracy: 15.08056640625\tTop5 test acc: 61.6845703125\n",
            "Epoch 38\tTop1 Train accuracy 63.91659164428711\tTop1 Test accuracy: 15.00244140625\tTop5 test acc: 61.70654296875\n",
            "Epoch 39\tTop1 Train accuracy 64.30492401123047\tTop1 Test accuracy: 15.02685546875\tTop5 test acc: 61.6796875\n",
            "Epoch 40\tTop1 Train accuracy 64.73230743408203\tTop1 Test accuracy: 14.97802734375\tTop5 test acc: 61.67236328125\n",
            "Epoch 41\tTop1 Train accuracy 65.20105743408203\tTop1 Test accuracy: 14.9658203125\tTop5 test acc: 61.5966796875\n",
            "Epoch 42\tTop1 Train accuracy 65.62615203857422\tTop1 Test accuracy: 15.1123046875\tTop5 test acc: 61.60888671875\n",
            "Epoch 43\tTop1 Train accuracy 66.13396453857422\tTop1 Test accuracy: 15.10498046875\tTop5 test acc: 61.57958984375\n",
            "Epoch 44\tTop1 Train accuracy 66.65901184082031\tTop1 Test accuracy: 15.0927734375\tTop5 test acc: 61.591796875\n",
            "Epoch 45\tTop1 Train accuracy 67.08639526367188\tTop1 Test accuracy: 15.03173828125\tTop5 test acc: 61.63330078125\n",
            "Epoch 46\tTop1 Train accuracy 67.61373901367188\tTop1 Test accuracy: 15.05615234375\tTop5 test acc: 61.55517578125\n",
            "Epoch 47\tTop1 Train accuracy 68.16061401367188\tTop1 Test accuracy: 15.06103515625\tTop5 test acc: 61.4501953125\n",
            "Epoch 48\tTop1 Train accuracy 68.51217651367188\tTop1 Test accuracy: 15.08544921875\tTop5 test acc: 61.5185546875\n",
            "Epoch 49\tTop1 Train accuracy 68.80514526367188\tTop1 Test accuracy: 15.13427734375\tTop5 test acc: 61.5673828125\n",
            "Epoch 50\tTop1 Train accuracy 69.05905151367188\tTop1 Test accuracy: 15.146484375\tTop5 test acc: 61.66259765625\n",
            "Epoch 51\tTop1 Train accuracy 69.46461486816406\tTop1 Test accuracy: 15.166015625\tTop5 test acc: 61.61376953125\n",
            "Epoch 52\tTop1 Train accuracy 69.77711486816406\tTop1 Test accuracy: 15.13427734375\tTop5 test acc: 61.5673828125\n",
            "Epoch 53\tTop1 Train accuracy 70.00919342041016\tTop1 Test accuracy: 15.13427734375\tTop5 test acc: 61.5673828125\n",
            "Epoch 54\tTop1 Train accuracy 70.24356842041016\tTop1 Test accuracy: 15.1171875\tTop5 test acc: 61.51123046875\n",
            "Epoch 55\tTop1 Train accuracy 70.59513092041016\tTop1 Test accuracy: 15.185546875\tTop5 test acc: 61.36474609375\n",
            "Epoch 56\tTop1 Train accuracy 70.90763092041016\tTop1 Test accuracy: 15.205078125\tTop5 test acc: 61.42578125\n",
            "Epoch 57\tTop1 Train accuracy 71.29825592041016\tTop1 Test accuracy: 15.1806640625\tTop5 test acc: 61.42578125\n",
            "Epoch 58\tTop1 Train accuracy 71.59122467041016\tTop1 Test accuracy: 15.19775390625\tTop5 test acc: 61.44287109375\n",
            "Epoch 59\tTop1 Train accuracy 71.84513092041016\tTop1 Test accuracy: 15.185546875\tTop5 test acc: 61.54052734375\n",
            "Epoch 60\tTop1 Train accuracy 72.27481842041016\tTop1 Test accuracy: 15.185546875\tTop5 test acc: 61.5283203125\n",
            "Epoch 61\tTop1 Train accuracy 72.72403717041016\tTop1 Test accuracy: 15.2099609375\tTop5 test acc: 61.5234375\n",
            "Epoch 62\tTop1 Train accuracy 73.03653717041016\tTop1 Test accuracy: 15.2392578125\tTop5 test acc: 61.51123046875\n",
            "Epoch 63\tTop1 Train accuracy 73.21231842041016\tTop1 Test accuracy: 15.24658203125\tTop5 test acc: 61.53564453125\n",
            "Epoch 64\tTop1 Train accuracy 73.58341217041016\tTop1 Test accuracy: 15.22705078125\tTop5 test acc: 61.51123046875\n",
            "Epoch 65\tTop1 Train accuracy 73.73966217041016\tTop1 Test accuracy: 15.1708984375\tTop5 test acc: 61.48681640625\n",
            "Epoch 66\tTop1 Train accuracy 74.18888092041016\tTop1 Test accuracy: 15.146484375\tTop5 test acc: 61.474609375\n",
            "Epoch 67\tTop1 Train accuracy 74.50138092041016\tTop1 Test accuracy: 15.09765625\tTop5 test acc: 61.43798828125\n",
            "Epoch 68\tTop1 Train accuracy 74.79434967041016\tTop1 Test accuracy: 15.0537109375\tTop5 test acc: 61.396484375\n",
            "Epoch 69\tTop1 Train accuracy 74.98966217041016\tTop1 Test accuracy: 15.0341796875\tTop5 test acc: 61.35986328125\n",
            "Epoch 70\tTop1 Train accuracy 75.28263092041016\tTop1 Test accuracy: 14.99267578125\tTop5 test acc: 61.28662109375\n",
            "Epoch 71\tTop1 Train accuracy 75.63419342041016\tTop1 Test accuracy: 15.01708984375\tTop5 test acc: 61.15234375\n",
            "Epoch 72\tTop1 Train accuracy 75.88809967041016\tTop1 Test accuracy: 15.0537109375\tTop5 test acc: 61.1572265625\n",
            "Epoch 73\tTop1 Train accuracy 76.06388092041016\tTop1 Test accuracy: 15.0048828125\tTop5 test acc: 61.18896484375\n",
            "Epoch 74\tTop1 Train accuracy 76.33731842041016\tTop1 Test accuracy: 15.01708984375\tTop5 test acc: 61.1279296875\n",
            "Epoch 75\tTop1 Train accuracy 76.61075592041016\tTop1 Test accuracy: 15.08544921875\tTop5 test acc: 61.201171875\n",
            "Epoch 76\tTop1 Train accuracy 77.05997467041016\tTop1 Test accuracy: 15.06103515625\tTop5 test acc: 61.2255859375\n",
            "Epoch 77\tTop1 Train accuracy 77.19438934326172\tTop1 Test accuracy: 15.10986328125\tTop5 test acc: 61.16455078125\n",
            "Epoch 78\tTop1 Train accuracy 77.46782684326172\tTop1 Test accuracy: 15.15380859375\tTop5 test acc: 61.1767578125\n",
            "Epoch 79\tTop1 Train accuracy 77.58501434326172\tTop1 Test accuracy: 15.1416015625\tTop5 test acc: 61.1474609375\n",
            "Epoch 80\tTop1 Train accuracy 77.79985809326172\tTop1 Test accuracy: 15.12939453125\tTop5 test acc: 61.1474609375\n",
            "Epoch 81\tTop1 Train accuracy 77.97563934326172\tTop1 Test accuracy: 15.10498046875\tTop5 test acc: 61.0986328125\n",
            "Epoch 82\tTop1 Train accuracy 78.19048309326172\tTop1 Test accuracy: 15.0439453125\tTop5 test acc: 61.06201171875\n",
            "Epoch 83\tTop1 Train accuracy 78.32720184326172\tTop1 Test accuracy: 15.0927734375\tTop5 test acc: 61.01318359375\n",
            "Epoch 84\tTop1 Train accuracy 78.46392059326172\tTop1 Test accuracy: 15.1171875\tTop5 test acc: 60.9521484375\n",
            "Epoch 85\tTop1 Train accuracy 78.73735809326172\tTop1 Test accuracy: 15.12939453125\tTop5 test acc: 60.9228515625\n",
            "Epoch 86\tTop1 Train accuracy 78.99126434326172\tTop1 Test accuracy: 15.12939453125\tTop5 test acc: 60.9716796875\n",
            "Epoch 87\tTop1 Train accuracy 79.24517059326172\tTop1 Test accuracy: 15.17822265625\tTop5 test acc: 60.95947265625\n",
            "Epoch 88\tTop1 Train accuracy 79.51860809326172\tTop1 Test accuracy: 15.15380859375\tTop5 test acc: 60.95458984375\n",
            "Epoch 89\tTop1 Train accuracy 79.67485809326172\tTop1 Test accuracy: 15.08544921875\tTop5 test acc: 60.966796875\n",
            "Epoch 90\tTop1 Train accuracy 79.90923309326172\tTop1 Test accuracy: 15.0537109375\tTop5 test acc: 60.9912109375\n",
            "Epoch 91\tTop1 Train accuracy 80.14131927490234\tTop1 Test accuracy: 15.029296875\tTop5 test acc: 60.97900390625\n",
            "Epoch 92\tTop1 Train accuracy 80.33663177490234\tTop1 Test accuracy: 15.0048828125\tTop5 test acc: 60.91796875\n",
            "Epoch 93\tTop1 Train accuracy 80.57100677490234\tTop1 Test accuracy: 15.0048828125\tTop5 test acc: 60.83740234375\n",
            "Epoch 94\tTop1 Train accuracy 80.72725677490234\tTop1 Test accuracy: 15.0048828125\tTop5 test acc: 60.83251953125\n",
            "Epoch 95\tTop1 Train accuracy 81.03975677490234\tTop1 Test accuracy: 15.0048828125\tTop5 test acc: 60.869140625\n",
            "Epoch 96\tTop1 Train accuracy 81.21553802490234\tTop1 Test accuracy: 14.98046875\tTop5 test acc: 60.83251953125\n",
            "Epoch 97\tTop1 Train accuracy 81.37178802490234\tTop1 Test accuracy: 14.91943359375\tTop5 test acc: 60.80322265625\n",
            "Epoch 98\tTop1 Train accuracy 81.60616302490234\tTop1 Test accuracy: 14.9072265625\tTop5 test acc: 60.82763671875\n",
            "Epoch 99\tTop1 Train accuracy 81.82100677490234\tTop1 Test accuracy: 14.8583984375\tTop5 test acc: 60.791015625\n"
          ]
        }
      ],
      "source": [
        "data ={'Epoch':[],'Top1 Train Accuracy':[], 'Top1 Test Accuracy':[], 'Top5 Test Accuracy':[]}\n",
        "df_testdata = pd.DataFrame(data)\n",
        "\n",
        "for epoch in range(epochs):\n",
        "  top1_train_accuracy = 0\n",
        "  for counter, (x_batch, y_batch) in enumerate(train_loader):\n",
        "    x_batch = x_batch.to(device)\n",
        "    y_batch = y_batch.to(device)\n",
        "\n",
        "    logits = model(x_batch)\n",
        "    loss = criterion(logits, y_batch)\n",
        "    top1 = accuracy(logits, y_batch, topk=(1,))\n",
        "    top1_train_accuracy += top1[0]\n",
        "\n",
        "    optimizer.zero_grad()\n",
        "    loss.backward()\n",
        "    optimizer.step()\n",
        "\n",
        "  top1_train_accuracy /= (counter + 1)\n",
        "  top1_accuracy = 0\n",
        "  top5_accuracy = 0\n",
        "  for counter, (x_batch, y_batch) in enumerate(test_loader):\n",
        "    x_batch = x_batch.to(device)\n",
        "    y_batch = y_batch.to(device)\n",
        "\n",
        "    logits = model(x_batch)\n",
        "  \n",
        "    top1, top5 = accuracy(logits, y_batch, topk=(1,5))\n",
        "    top1_accuracy += top1[0]\n",
        "    top5_accuracy += top5[0]\n",
        "  \n",
        "  top1_accuracy /= (counter + 1)\n",
        "  top5_accuracy /= (counter + 1)\n",
        "  print(f\"Epoch {epoch}\\tTop1 Train accuracy {top1_train_accuracy.item()}\\tTop1 Test accuracy: {top1_accuracy.item()}\\tTop5 test acc: {top5_accuracy.item()}\")\n",
        "  epoch_data = {'Epoch':epoch,'Top1 Train Accuracy':top1_train_accuracy.item(), 'Top1 Test Accuracy':top1_accuracy.item(), 'Top5 Test Accuracy':top5_accuracy.item()}\n",
        "  df_testdata = df_testdata.append(pd.Series(data=epoch_data,name='x'), ignore_index=True)\n",
        "df_testdata.to_csv(f'{save_file_name}.csv')\n",
        "    "
      ]
    },
    {
      "cell_type": "code",
      "execution_count": null,
      "metadata": {
        "id": "dtYqHZirMNZk"
      },
      "outputs": [],
      "source": []
    }
  ],
  "metadata": {
    "accelerator": "GPU",
    "colab": {
      "provenance": []
    },
    "kernelspec": {
      "display_name": "Python 3.8.10 ('simclr': venv)",
      "language": "python",
      "name": "python3"
    },
    "language_info": {
      "codemirror_mode": {
        "name": "ipython",
        "version": 3
      },
      "file_extension": ".py",
      "mimetype": "text/x-python",
      "name": "python",
      "nbconvert_exporter": "python",
      "pygments_lexer": "ipython3",
      "version": "3.8.10"
    },
    "vscode": {
      "interpreter": {
        "hash": "259f36408d6c228b821707ef394a3ce9c6ba21a414912ef3d6015ba9523cc54e"
      }
    }
  },
  "nbformat": 4,
  "nbformat_minor": 0
}